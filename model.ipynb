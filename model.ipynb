{
 "cells": [
  {
   "cell_type": "code",
   "execution_count": 1,
   "metadata": {},
   "outputs": [],
   "source": [
    "import pandas as pd "
   ]
  },
  {
   "cell_type": "code",
   "execution_count": 6,
   "metadata": {},
   "outputs": [
    {
     "data": {
      "text/html": [
       "<div>\n",
       "<style scoped>\n",
       "    .dataframe tbody tr th:only-of-type {\n",
       "        vertical-align: middle;\n",
       "    }\n",
       "\n",
       "    .dataframe tbody tr th {\n",
       "        vertical-align: top;\n",
       "    }\n",
       "\n",
       "    .dataframe thead th {\n",
       "        text-align: right;\n",
       "    }\n",
       "</style>\n",
       "<table border=\"1\" class=\"dataframe\">\n",
       "  <thead>\n",
       "    <tr style=\"text-align: right;\">\n",
       "      <th></th>\n",
       "      <th>stateabb</th>\n",
       "      <th>ccode</th>\n",
       "      <th>statenme</th>\n",
       "      <th>styear</th>\n",
       "      <th>stmonth</th>\n",
       "      <th>stday</th>\n",
       "      <th>endyear</th>\n",
       "      <th>endmonth</th>\n",
       "      <th>endday</th>\n",
       "      <th>version</th>\n",
       "      <th>...</th>\n",
       "      <th>Unnamed: 11</th>\n",
       "      <th>Unnamed: 12</th>\n",
       "      <th>Unnamed: 13</th>\n",
       "      <th>Unnamed: 14</th>\n",
       "      <th>Unnamed: 15</th>\n",
       "      <th>Unnamed: 16</th>\n",
       "      <th>Unnamed: 17</th>\n",
       "      <th>Unnamed: 18</th>\n",
       "      <th>Unnamed: 19</th>\n",
       "      <th>Unnamed: 20</th>\n",
       "    </tr>\n",
       "  </thead>\n",
       "  <tbody>\n",
       "    <tr>\n",
       "      <th>0</th>\n",
       "      <td>USA</td>\n",
       "      <td>2</td>\n",
       "      <td>United States of America</td>\n",
       "      <td>1816</td>\n",
       "      <td>1</td>\n",
       "      <td>1</td>\n",
       "      <td>2016</td>\n",
       "      <td>12</td>\n",
       "      <td>31</td>\n",
       "      <td>2016</td>\n",
       "      <td>...</td>\n",
       "      <td>NaN</td>\n",
       "      <td>NaN</td>\n",
       "      <td>NaN</td>\n",
       "      <td>NaN</td>\n",
       "      <td>NaN</td>\n",
       "      <td>NaN</td>\n",
       "      <td>NaN</td>\n",
       "      <td>NaN</td>\n",
       "      <td>NaN</td>\n",
       "      <td>NaN</td>\n",
       "    </tr>\n",
       "    <tr>\n",
       "      <th>1</th>\n",
       "      <td>CAN</td>\n",
       "      <td>20</td>\n",
       "      <td>Canada</td>\n",
       "      <td>1920</td>\n",
       "      <td>1</td>\n",
       "      <td>10</td>\n",
       "      <td>2016</td>\n",
       "      <td>12</td>\n",
       "      <td>31</td>\n",
       "      <td>2016</td>\n",
       "      <td>...</td>\n",
       "      <td>NaN</td>\n",
       "      <td>NaN</td>\n",
       "      <td>NaN</td>\n",
       "      <td>NaN</td>\n",
       "      <td>NaN</td>\n",
       "      <td>NaN</td>\n",
       "      <td>NaN</td>\n",
       "      <td>NaN</td>\n",
       "      <td>NaN</td>\n",
       "      <td>NaN</td>\n",
       "    </tr>\n",
       "    <tr>\n",
       "      <th>2</th>\n",
       "      <td>BHM</td>\n",
       "      <td>31</td>\n",
       "      <td>Bahamas</td>\n",
       "      <td>1973</td>\n",
       "      <td>7</td>\n",
       "      <td>10</td>\n",
       "      <td>2016</td>\n",
       "      <td>12</td>\n",
       "      <td>31</td>\n",
       "      <td>2016</td>\n",
       "      <td>...</td>\n",
       "      <td>NaN</td>\n",
       "      <td>NaN</td>\n",
       "      <td>NaN</td>\n",
       "      <td>NaN</td>\n",
       "      <td>NaN</td>\n",
       "      <td>NaN</td>\n",
       "      <td>NaN</td>\n",
       "      <td>NaN</td>\n",
       "      <td>NaN</td>\n",
       "      <td>NaN</td>\n",
       "    </tr>\n",
       "    <tr>\n",
       "      <th>3</th>\n",
       "      <td>CUB</td>\n",
       "      <td>40</td>\n",
       "      <td>Cuba</td>\n",
       "      <td>1902</td>\n",
       "      <td>5</td>\n",
       "      <td>20</td>\n",
       "      <td>1906</td>\n",
       "      <td>9</td>\n",
       "      <td>25</td>\n",
       "      <td>2016</td>\n",
       "      <td>...</td>\n",
       "      <td>NaN</td>\n",
       "      <td>NaN</td>\n",
       "      <td>NaN</td>\n",
       "      <td>NaN</td>\n",
       "      <td>NaN</td>\n",
       "      <td>NaN</td>\n",
       "      <td>NaN</td>\n",
       "      <td>NaN</td>\n",
       "      <td>NaN</td>\n",
       "      <td>NaN</td>\n",
       "    </tr>\n",
       "    <tr>\n",
       "      <th>4</th>\n",
       "      <td>CUB</td>\n",
       "      <td>40</td>\n",
       "      <td>Cuba</td>\n",
       "      <td>1909</td>\n",
       "      <td>1</td>\n",
       "      <td>23</td>\n",
       "      <td>2016</td>\n",
       "      <td>12</td>\n",
       "      <td>31</td>\n",
       "      <td>2016</td>\n",
       "      <td>...</td>\n",
       "      <td>NaN</td>\n",
       "      <td>NaN</td>\n",
       "      <td>NaN</td>\n",
       "      <td>NaN</td>\n",
       "      <td>NaN</td>\n",
       "      <td>NaN</td>\n",
       "      <td>NaN</td>\n",
       "      <td>NaN</td>\n",
       "      <td>NaN</td>\n",
       "      <td>NaN</td>\n",
       "    </tr>\n",
       "  </tbody>\n",
       "</table>\n",
       "<p>5 rows × 21 columns</p>\n",
       "</div>"
      ],
      "text/plain": [
       "  stateabb  ccode                  statenme  styear  stmonth  stday  endyear  \\\n",
       "0      USA      2  United States of America    1816        1      1     2016   \n",
       "1      CAN     20                    Canada    1920        1     10     2016   \n",
       "2      BHM     31                   Bahamas    1973        7     10     2016   \n",
       "3      CUB     40                      Cuba    1902        5     20     1906   \n",
       "4      CUB     40                      Cuba    1909        1     23     2016   \n",
       "\n",
       "   endmonth  endday  version  ...  Unnamed: 11  Unnamed: 12  Unnamed: 13  \\\n",
       "0        12      31     2016  ...          NaN          NaN          NaN   \n",
       "1        12      31     2016  ...          NaN          NaN          NaN   \n",
       "2        12      31     2016  ...          NaN          NaN          NaN   \n",
       "3         9      25     2016  ...          NaN          NaN          NaN   \n",
       "4        12      31     2016  ...          NaN          NaN          NaN   \n",
       "\n",
       "   Unnamed: 14  Unnamed: 15 Unnamed: 16  Unnamed: 17  Unnamed: 18  \\\n",
       "0          NaN          NaN         NaN          NaN          NaN   \n",
       "1          NaN          NaN         NaN          NaN          NaN   \n",
       "2          NaN          NaN         NaN          NaN          NaN   \n",
       "3          NaN          NaN         NaN          NaN          NaN   \n",
       "4          NaN          NaN         NaN          NaN          NaN   \n",
       "\n",
       "   Unnamed: 19 Unnamed: 20  \n",
       "0          NaN         NaN  \n",
       "1          NaN         NaN  \n",
       "2          NaN         NaN  \n",
       "3          NaN         NaN  \n",
       "4          NaN         NaN  \n",
       "\n",
       "[5 rows x 21 columns]"
      ]
     },
     "execution_count": 6,
     "metadata": {},
     "output_type": "execute_result"
    }
   ],
   "source": [
    "states = pd.read_csv('data//states2016.csv')\n",
    "states.head()"
   ]
  },
  {
   "cell_type": "code",
   "execution_count": 16,
   "metadata": {},
   "outputs": [
    {
     "data": {
      "text/plain": [
       "Index(['stateabb', 'ccode', 'statenme', 'styear', 'stmonth', 'stday',\n",
       "       'endyear', 'endmonth', 'endday', 'version', 'Unnamed: 10',\n",
       "       'Unnamed: 11', 'Unnamed: 12', 'Unnamed: 13', 'Unnamed: 14',\n",
       "       'Unnamed: 15', 'Unnamed: 16', 'Unnamed: 17', 'Unnamed: 18',\n",
       "       'Unnamed: 19', 'Unnamed: 20'],\n",
       "      dtype='object')"
      ]
     },
     "execution_count": 16,
     "metadata": {},
     "output_type": "execute_result"
    }
   ],
   "source": [
    "states.columns"
   ]
  },
  {
   "cell_type": "code",
   "execution_count": 13,
   "metadata": {},
   "outputs": [
    {
     "data": {
      "text/plain": [
       "217"
      ]
     },
     "execution_count": 13,
     "metadata": {},
     "output_type": "execute_result"
    }
   ],
   "source": [
    "len(states['stateabb'].unique())"
   ]
  },
  {
   "cell_type": "code",
   "execution_count": 14,
   "metadata": {},
   "outputs": [
    {
     "data": {
      "text/plain": [
       "217"
      ]
     },
     "execution_count": 14,
     "metadata": {},
     "output_type": "execute_result"
    }
   ],
   "source": [
    "len(states['statenme'].unique())"
   ]
  },
  {
   "cell_type": "markdown",
   "metadata": {},
   "source": [
    "##### save data on New_York_Times in DataFrame"
   ]
  },
  {
   "cell_type": "code",
   "execution_count": 17,
   "metadata": {},
   "outputs": [],
   "source": [
    "import os"
   ]
  },
  {
   "cell_type": "code",
   "execution_count": 18,
   "metadata": {},
   "outputs": [],
   "source": [
    "root_folder = 'data//New York Times'"
   ]
  },
  {
   "cell_type": "code",
   "execution_count": 21,
   "metadata": {},
   "outputs": [],
   "source": [
    "data =[]\n",
    "for year_folder in os.listdir(root_folder):\n",
    "  year_path = os.path.join(root_folder, year_folder)\n",
    "  \n",
    "  #check if is's a directory\n",
    "  if os.path.isdir(year_path):\n",
    "    # Loop through each .txt filde in the year folder \n",
    "    for filde_name in os.listdir(year_path):\n",
    "      if filde_name.endswith('.txt'):\n",
    "        file_path = os.path.join(year_path, filde_name)\n",
    "        # Read the content of the .txt file\n",
    "        with open(file_path, \"r\", encoding=\"latin-1\") as file:\n",
    "            content = file.read()\n",
    "            \n",
    "        # Append the data to the list \n",
    "        data.append(\n",
    "          {\n",
    "            \"year\":year_folder,\n",
    "            \"file_name\":filde_name,\n",
    "            \"content\":content\n",
    "          }\n",
    "        )"
   ]
  },
  {
   "cell_type": "code",
   "execution_count": 22,
   "metadata": {},
   "outputs": [],
   "source": [
    "DataDF = pd.DataFrame(data)\n",
    "DataDF.to_csv('data//new_york_times_articles.csv', index=False)"
   ]
  },
  {
   "cell_type": "code",
   "execution_count": 23,
   "metadata": {},
   "outputs": [
    {
     "data": {
      "text/html": [
       "<div>\n",
       "<style scoped>\n",
       "    .dataframe tbody tr th:only-of-type {\n",
       "        vertical-align: middle;\n",
       "    }\n",
       "\n",
       "    .dataframe tbody tr th {\n",
       "        vertical-align: top;\n",
       "    }\n",
       "\n",
       "    .dataframe thead th {\n",
       "        text-align: right;\n",
       "    }\n",
       "</style>\n",
       "<table border=\"1\" class=\"dataframe\">\n",
       "  <thead>\n",
       "    <tr style=\"text-align: right;\">\n",
       "      <th></th>\n",
       "      <th>year</th>\n",
       "      <th>file_name</th>\n",
       "      <th>content</th>\n",
       "    </tr>\n",
       "  </thead>\n",
       "  <tbody>\n",
       "    <tr>\n",
       "      <th>0</th>\n",
       "      <td>2002-2010</td>\n",
       "      <td>2002.txt</td>\n",
       "      <td>\\n============================================...</td>\n",
       "    </tr>\n",
       "    <tr>\n",
       "      <th>1</th>\n",
       "      <td>2002-2010</td>\n",
       "      <td>2003.txt</td>\n",
       "      <td>20030827--0172-Aug27_2003_LN_NP1.TXT-files.lis...</td>\n",
       "    </tr>\n",
       "    <tr>\n",
       "      <th>2</th>\n",
       "      <td>2002-2010</td>\n",
       "      <td>2004.txt</td>\n",
       "      <td>20040330--0106-Mar30_2004_LN_NP1.TXT-files.lis...</td>\n",
       "    </tr>\n",
       "    <tr>\n",
       "      <th>3</th>\n",
       "      <td>2002-2010</td>\n",
       "      <td>2005.txt</td>\n",
       "      <td>20050621--0042-21June_2005_LN_NP1.TXT-files.li...</td>\n",
       "    </tr>\n",
       "    <tr>\n",
       "      <th>4</th>\n",
       "      <td>2002-2010</td>\n",
       "      <td>2006.txt</td>\n",
       "      <td>20060317--0133-Mar17_2006_LN_NP1.txt-files.lis...</td>\n",
       "    </tr>\n",
       "  </tbody>\n",
       "</table>\n",
       "</div>"
      ],
      "text/plain": [
       "        year file_name                                            content\n",
       "0  2002-2010  2002.txt  \\n============================================...\n",
       "1  2002-2010  2003.txt  20030827--0172-Aug27_2003_LN_NP1.TXT-files.lis...\n",
       "2  2002-2010  2004.txt  20040330--0106-Mar30_2004_LN_NP1.TXT-files.lis...\n",
       "3  2002-2010  2005.txt  20050621--0042-21June_2005_LN_NP1.TXT-files.li...\n",
       "4  2002-2010  2006.txt  20060317--0133-Mar17_2006_LN_NP1.txt-files.lis..."
      ]
     },
     "execution_count": 23,
     "metadata": {},
     "output_type": "execute_result"
    }
   ],
   "source": [
    "NewYorkTimes = pd.read_csv('data//new_york_times_articles.csv')\n",
    "NewYorkTimes.head()"
   ]
  },
  {
   "cell_type": "code",
   "execution_count": 29,
   "metadata": {},
   "outputs": [
    {
     "data": {
      "text/plain": [
       "434"
      ]
     },
     "execution_count": 29,
     "metadata": {},
     "output_type": "execute_result"
    }
   ],
   "source": [
    "len(NewYorkTimes)"
   ]
  },
  {
   "cell_type": "code",
   "execution_count": null,
   "metadata": {},
   "outputs": [],
   "source": []
  }
 ],
 "metadata": {
  "kernelspec": {
   "display_name": "my_env",
   "language": "python",
   "name": "python3"
  },
  "language_info": {
   "codemirror_mode": {
    "name": "ipython",
    "version": 3
   },
   "file_extension": ".py",
   "mimetype": "text/x-python",
   "name": "python",
   "nbconvert_exporter": "python",
   "pygments_lexer": "ipython3",
   "version": "3.9.21"
  }
 },
 "nbformat": 4,
 "nbformat_minor": 2
}
